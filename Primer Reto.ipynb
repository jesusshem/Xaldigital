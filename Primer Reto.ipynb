{
 "cells": [
  {
   "cell_type": "markdown",
   "metadata": {},
   "source": [
    "# Libraries"
   ]
  },
  {
   "cell_type": "code",
   "execution_count": 1,
   "metadata": {},
   "outputs": [],
   "source": [
    "import requests\n",
    "import pandas as pd\n",
    "import json\n",
    "from datetime import datetime as dt"
   ]
  },
  {
   "cell_type": "markdown",
   "metadata": {},
   "source": [
    "# Actividad 1: Conectarse al enlace"
   ]
  },
  {
   "cell_type": "markdown",
   "metadata": {},
   "source": [
    "Hago el request con la url del ejercicio"
   ]
  },
  {
   "cell_type": "code",
   "execution_count": 2,
   "metadata": {},
   "outputs": [],
   "source": [
    "url_request = 'https://api.stackexchange.com/2.2/search?order=desc&sort=activity&intitle=perl&site=stackoverflow'\n",
    "resp = requests.get(url_request)"
   ]
  },
  {
   "cell_type": "markdown",
   "metadata": {},
   "source": [
    "Acá reviso que se haya obtenido correctamente la información"
   ]
  },
  {
   "cell_type": "code",
   "execution_count": 3,
   "metadata": {
    "scrolled": false
   },
   "outputs": [
    {
     "name": "stdout",
     "output_type": "stream",
     "text": [
      "200\n"
     ]
    }
   ],
   "source": [
    "print(resp.status_code)"
   ]
  },
  {
   "cell_type": "markdown",
   "metadata": {},
   "source": [
    "Guardo el contenido del request como un diccionario"
   ]
  },
  {
   "cell_type": "code",
   "execution_count": 4,
   "metadata": {},
   "outputs": [],
   "source": [
    "dict_posts = json.loads(resp.text)"
   ]
  },
  {
   "cell_type": "markdown",
   "metadata": {},
   "source": [
    "# Data Exploration"
   ]
  },
  {
   "cell_type": "markdown",
   "metadata": {},
   "source": [
    "Los datos que nos importan se encuentran dentro de *'items'*"
   ]
  },
  {
   "cell_type": "code",
   "execution_count": 5,
   "metadata": {},
   "outputs": [
    {
     "data": {
      "text/plain": [
       "dict_keys(['items', 'has_more', 'quota_max', 'quota_remaining'])"
      ]
     },
     "execution_count": 5,
     "metadata": {},
     "output_type": "execute_result"
    }
   ],
   "source": [
    "dict_posts.keys()"
   ]
  },
  {
   "cell_type": "markdown",
   "metadata": {},
   "source": [
    "Para un mejor manejo de datos transformo el diccionario a un dataframe:"
   ]
  },
  {
   "cell_type": "code",
   "execution_count": 6,
   "metadata": {},
   "outputs": [],
   "source": [
    "dposts = pd.DataFrame(dict_posts['items'])"
   ]
  },
  {
   "cell_type": "markdown",
   "metadata": {},
   "source": [
    "**NOTA:** Le agrego una \"d\" al inicio de la variable *posts* porque así sé que es un dataframe."
   ]
  },
  {
   "cell_type": "markdown",
   "metadata": {},
   "source": [
    "Veo el número total de posts:"
   ]
  },
  {
   "cell_type": "code",
   "execution_count": 7,
   "metadata": {},
   "outputs": [
    {
     "name": "stdout",
     "output_type": "stream",
     "text": [
      "Total de posts: 30\n"
     ]
    }
   ],
   "source": [
    "total = dposts.shape[0]\n",
    "print('Total de posts:', total)"
   ]
  },
  {
   "cell_type": "markdown",
   "metadata": {},
   "source": [
    "## Actividad 2: Obtener el número de respuestas contestadas y no contestadas"
   ]
  },
  {
   "cell_type": "markdown",
   "metadata": {},
   "source": [
    "En esta parte no estaba seguro si utilizar la columna *'is_answered'* o *'answer_count'*, ya que al contar los True que contiene *'answer_count'* vienen 18 registros pero si cuento los *'answer_count'* diferentes de 0 son 23. \n",
    "\n",
    "Por lo que fui a ver el link de los post que tienen 'answer_count': False y 'answer_count' diferentes de 0 y resulta que estos en estos posts sí recibieron respuestas, por lo que decidí contar respecto a la columna *'answer_count'*."
   ]
  },
  {
   "cell_type": "code",
   "execution_count": 8,
   "metadata": {},
   "outputs": [],
   "source": [
    "answered = dposts['answer_count'].apply(lambda x: x!=0).sum()\n",
    "not_answered = dposts['answer_count'].apply(lambda x: x==0).sum()"
   ]
  },
  {
   "cell_type": "code",
   "execution_count": 9,
   "metadata": {},
   "outputs": [
    {
     "name": "stdout",
     "output_type": "stream",
     "text": [
      " Número de posts que recibieron respuesta: 23 \n",
      " Número de posts que no recibieron respuesta 7\n"
     ]
    }
   ],
   "source": [
    "print(' Número de posts que recibieron respuesta:', answered, '\\n Número de posts que no recibieron respuesta', not_answered)"
   ]
  },
  {
   "cell_type": "markdown",
   "metadata": {},
   "source": [
    "# Actividad 3: Obtener la respuesta con menor número de vistas"
   ]
  },
  {
   "cell_type": "markdown",
   "metadata": {},
   "source": [
    "Ahora obtenemos el post con menor número de respuestas, acá omitiré los que no recibieron respuestas:"
   ]
  },
  {
   "cell_type": "code",
   "execution_count": 10,
   "metadata": {},
   "outputs": [],
   "source": [
    "min_answers = dposts['answer_count'][dposts['answer_count']!=0].min()"
   ]
  },
  {
   "cell_type": "code",
   "execution_count": 11,
   "metadata": {},
   "outputs": [
    {
     "data": {
      "text/plain": [
       "11"
      ]
     },
     "execution_count": 11,
     "metadata": {},
     "output_type": "execute_result"
    }
   ],
   "source": [
    "dposts[dposts['answer_count']==min_answers].shape[0]"
   ]
  },
  {
   "cell_type": "code",
   "execution_count": 12,
   "metadata": {},
   "outputs": [
    {
     "data": {
      "text/html": [
       "<div>\n",
       "<style scoped>\n",
       "    .dataframe tbody tr th:only-of-type {\n",
       "        vertical-align: middle;\n",
       "    }\n",
       "\n",
       "    .dataframe tbody tr th {\n",
       "        vertical-align: top;\n",
       "    }\n",
       "\n",
       "    .dataframe thead th {\n",
       "        text-align: right;\n",
       "    }\n",
       "</style>\n",
       "<table border=\"1\" class=\"dataframe\">\n",
       "  <thead>\n",
       "    <tr style=\"text-align: right;\">\n",
       "      <th></th>\n",
       "      <th>tags</th>\n",
       "      <th>owner</th>\n",
       "      <th>is_answered</th>\n",
       "      <th>view_count</th>\n",
       "      <th>answer_count</th>\n",
       "      <th>score</th>\n",
       "      <th>last_activity_date</th>\n",
       "      <th>creation_date</th>\n",
       "      <th>last_edit_date</th>\n",
       "      <th>question_id</th>\n",
       "      <th>content_license</th>\n",
       "      <th>link</th>\n",
       "      <th>title</th>\n",
       "      <th>accepted_answer_id</th>\n",
       "      <th>closed_date</th>\n",
       "      <th>closed_reason</th>\n",
       "      <th>protected_date</th>\n",
       "    </tr>\n",
       "  </thead>\n",
       "  <tbody>\n",
       "    <tr>\n",
       "      <th>0</th>\n",
       "      <td>[linux, perl, ubuntu]</td>\n",
       "      <td>{'reputation': 1, 'user_id': 12918263, 'user_t...</td>\n",
       "      <td>False</td>\n",
       "      <td>29</td>\n",
       "      <td>1</td>\n",
       "      <td>-1</td>\n",
       "      <td>1656044866</td>\n",
       "      <td>1656020158</td>\n",
       "      <td>1.656020e+09</td>\n",
       "      <td>72736841</td>\n",
       "      <td>CC BY-SA 4.0</td>\n",
       "      <td>https://stackoverflow.com/questions/72736841/h...</td>\n",
       "      <td>How to Call Custom Perl Module in a Script</td>\n",
       "      <td>NaN</td>\n",
       "      <td>NaN</td>\n",
       "      <td>NaN</td>\n",
       "      <td>NaN</td>\n",
       "    </tr>\n",
       "    <tr>\n",
       "      <th>4</th>\n",
       "      <td>[html, perl]</td>\n",
       "      <td>{'reputation': 103, 'user_id': 4933923, 'user_...</td>\n",
       "      <td>False</td>\n",
       "      <td>33</td>\n",
       "      <td>1</td>\n",
       "      <td>0</td>\n",
       "      <td>1655997846</td>\n",
       "      <td>1655995734</td>\n",
       "      <td>1.655998e+09</td>\n",
       "      <td>72732214</td>\n",
       "      <td>CC BY-SA 4.0</td>\n",
       "      <td>https://stackoverflow.com/questions/72732214/h...</td>\n",
       "      <td>How to fill HTML table cell colour in Perl bas...</td>\n",
       "      <td>NaN</td>\n",
       "      <td>NaN</td>\n",
       "      <td>NaN</td>\n",
       "      <td>NaN</td>\n",
       "    </tr>\n",
       "    <tr>\n",
       "      <th>5</th>\n",
       "      <td>[perl, glob]</td>\n",
       "      <td>{'reputation': 1, 'user_id': 19396163, 'user_t...</td>\n",
       "      <td>False</td>\n",
       "      <td>42</td>\n",
       "      <td>1</td>\n",
       "      <td>0</td>\n",
       "      <td>1655973512</td>\n",
       "      <td>1655958468</td>\n",
       "      <td>1.655974e+09</td>\n",
       "      <td>72724534</td>\n",
       "      <td>CC BY-SA 4.0</td>\n",
       "      <td>https://stackoverflow.com/questions/72724534/u...</td>\n",
       "      <td>Using perl to delete differente file that name...</td>\n",
       "      <td>NaN</td>\n",
       "      <td>NaN</td>\n",
       "      <td>NaN</td>\n",
       "      <td>NaN</td>\n",
       "    </tr>\n",
       "    <tr>\n",
       "      <th>12</th>\n",
       "      <td>[perl]</td>\n",
       "      <td>{'reputation': 267, 'user_id': 1574656, 'user_...</td>\n",
       "      <td>False</td>\n",
       "      <td>10186</td>\n",
       "      <td>1</td>\n",
       "      <td>1</td>\n",
       "      <td>1655838340</td>\n",
       "      <td>1383155733</td>\n",
       "      <td>1.383161e+09</td>\n",
       "      <td>19690370</td>\n",
       "      <td>CC BY-SA 3.0</td>\n",
       "      <td>https://stackoverflow.com/questions/19690370/h...</td>\n",
       "      <td>How to redirect a page in perl script</td>\n",
       "      <td>NaN</td>\n",
       "      <td>NaN</td>\n",
       "      <td>NaN</td>\n",
       "      <td>NaN</td>\n",
       "    </tr>\n",
       "    <tr>\n",
       "      <th>16</th>\n",
       "      <td>[perl, documentation]</td>\n",
       "      <td>{'reputation': 847, 'user_id': 14055985, 'user...</td>\n",
       "      <td>True</td>\n",
       "      <td>45</td>\n",
       "      <td>1</td>\n",
       "      <td>1</td>\n",
       "      <td>1655821384</td>\n",
       "      <td>1655604461</td>\n",
       "      <td>NaN</td>\n",
       "      <td>72673848</td>\n",
       "      <td>CC BY-SA 4.0</td>\n",
       "      <td>https://stackoverflow.com/questions/72673848/c...</td>\n",
       "      <td>Can Perl POD represent quoting from an email?</td>\n",
       "      <td>72702495.0</td>\n",
       "      <td>NaN</td>\n",
       "      <td>NaN</td>\n",
       "      <td>NaN</td>\n",
       "    </tr>\n",
       "    <tr>\n",
       "      <th>18</th>\n",
       "      <td>[python, perl]</td>\n",
       "      <td>{'reputation': 327, 'user_id': 11397243, 'user...</td>\n",
       "      <td>False</td>\n",
       "      <td>64</td>\n",
       "      <td>1</td>\n",
       "      <td>1</td>\n",
       "      <td>1655772804</td>\n",
       "      <td>1655503268</td>\n",
       "      <td>NaN</td>\n",
       "      <td>72665191</td>\n",
       "      <td>CC BY-SA 4.0</td>\n",
       "      <td>https://stackoverflow.com/questions/72665191/m...</td>\n",
       "      <td>More perl style Function Templates in python</td>\n",
       "      <td>NaN</td>\n",
       "      <td>NaN</td>\n",
       "      <td>NaN</td>\n",
       "      <td>NaN</td>\n",
       "    </tr>\n",
       "    <tr>\n",
       "      <th>23</th>\n",
       "      <td>[perl, pdl]</td>\n",
       "      <td>{'reputation': 847, 'user_id': 14055985, 'user...</td>\n",
       "      <td>True</td>\n",
       "      <td>49</td>\n",
       "      <td>1</td>\n",
       "      <td>2</td>\n",
       "      <td>1655711698</td>\n",
       "      <td>1655007107</td>\n",
       "      <td>1.655712e+09</td>\n",
       "      <td>72589437</td>\n",
       "      <td>CC BY-SA 4.0</td>\n",
       "      <td>https://stackoverflow.com/questions/72589437/d...</td>\n",
       "      <td>Does Perl PDL have an equivalent of Math::Roun...</td>\n",
       "      <td>NaN</td>\n",
       "      <td>NaN</td>\n",
       "      <td>NaN</td>\n",
       "      <td>NaN</td>\n",
       "    </tr>\n",
       "    <tr>\n",
       "      <th>25</th>\n",
       "      <td>[perl]</td>\n",
       "      <td>{'reputation': 18621, 'user_id': 4632019, 'use...</td>\n",
       "      <td>True</td>\n",
       "      <td>54</td>\n",
       "      <td>1</td>\n",
       "      <td>2</td>\n",
       "      <td>1655661476</td>\n",
       "      <td>1655636799</td>\n",
       "      <td>1.655650e+09</td>\n",
       "      <td>72676329</td>\n",
       "      <td>CC BY-SA 4.0</td>\n",
       "      <td>https://stackoverflow.com/questions/72676329/w...</td>\n",
       "      <td>What is corect way to configure path to packag...</td>\n",
       "      <td>72679094.0</td>\n",
       "      <td>NaN</td>\n",
       "      <td>NaN</td>\n",
       "      <td>NaN</td>\n",
       "    </tr>\n",
       "    <tr>\n",
       "      <th>27</th>\n",
       "      <td>[perl]</td>\n",
       "      <td>{'reputation': 3, 'user_id': 18581919, 'user_t...</td>\n",
       "      <td>True</td>\n",
       "      <td>60</td>\n",
       "      <td>1</td>\n",
       "      <td>0</td>\n",
       "      <td>1655571739</td>\n",
       "      <td>1655497868</td>\n",
       "      <td>1.655498e+09</td>\n",
       "      <td>72664514</td>\n",
       "      <td>CC BY-SA 4.0</td>\n",
       "      <td>https://stackoverflow.com/questions/72664514/p...</td>\n",
       "      <td>perl for loop issue with understanding it</td>\n",
       "      <td>72671119.0</td>\n",
       "      <td>NaN</td>\n",
       "      <td>NaN</td>\n",
       "      <td>NaN</td>\n",
       "    </tr>\n",
       "    <tr>\n",
       "      <th>28</th>\n",
       "      <td>[perl, glibc, perl-packager, pp-perl-par-packa...</td>\n",
       "      <td>{'reputation': 23, 'user_id': 4783045, 'user_t...</td>\n",
       "      <td>True</td>\n",
       "      <td>42</td>\n",
       "      <td>1</td>\n",
       "      <td>1</td>\n",
       "      <td>1655561348</td>\n",
       "      <td>1655392977</td>\n",
       "      <td>1.655483e+09</td>\n",
       "      <td>72648233</td>\n",
       "      <td>CC BY-SA 4.0</td>\n",
       "      <td>https://stackoverflow.com/questions/72648233/c...</td>\n",
       "      <td>compile perl script using par::packer and run ...</td>\n",
       "      <td>NaN</td>\n",
       "      <td>NaN</td>\n",
       "      <td>NaN</td>\n",
       "      <td>NaN</td>\n",
       "    </tr>\n",
       "    <tr>\n",
       "      <th>29</th>\n",
       "      <td>[regex, perl, regex-group, multiline]</td>\n",
       "      <td>{'reputation': 644, 'user_id': 2035207, 'user_...</td>\n",
       "      <td>True</td>\n",
       "      <td>51</td>\n",
       "      <td>1</td>\n",
       "      <td>1</td>\n",
       "      <td>1655514446</td>\n",
       "      <td>1655483368</td>\n",
       "      <td>NaN</td>\n",
       "      <td>72662310</td>\n",
       "      <td>CC BY-SA 4.0</td>\n",
       "      <td>https://stackoverflow.com/questions/72662310/p...</td>\n",
       "      <td>Perl: iterate through multiline match</td>\n",
       "      <td>72666003.0</td>\n",
       "      <td>NaN</td>\n",
       "      <td>NaN</td>\n",
       "      <td>NaN</td>\n",
       "    </tr>\n",
       "  </tbody>\n",
       "</table>\n",
       "</div>"
      ],
      "text/plain": [
       "                                                 tags  \\\n",
       "0                               [linux, perl, ubuntu]   \n",
       "4                                        [html, perl]   \n",
       "5                                        [perl, glob]   \n",
       "12                                             [perl]   \n",
       "16                              [perl, documentation]   \n",
       "18                                     [python, perl]   \n",
       "23                                        [perl, pdl]   \n",
       "25                                             [perl]   \n",
       "27                                             [perl]   \n",
       "28  [perl, glibc, perl-packager, pp-perl-par-packa...   \n",
       "29              [regex, perl, regex-group, multiline]   \n",
       "\n",
       "                                                owner  is_answered  \\\n",
       "0   {'reputation': 1, 'user_id': 12918263, 'user_t...        False   \n",
       "4   {'reputation': 103, 'user_id': 4933923, 'user_...        False   \n",
       "5   {'reputation': 1, 'user_id': 19396163, 'user_t...        False   \n",
       "12  {'reputation': 267, 'user_id': 1574656, 'user_...        False   \n",
       "16  {'reputation': 847, 'user_id': 14055985, 'user...         True   \n",
       "18  {'reputation': 327, 'user_id': 11397243, 'user...        False   \n",
       "23  {'reputation': 847, 'user_id': 14055985, 'user...         True   \n",
       "25  {'reputation': 18621, 'user_id': 4632019, 'use...         True   \n",
       "27  {'reputation': 3, 'user_id': 18581919, 'user_t...         True   \n",
       "28  {'reputation': 23, 'user_id': 4783045, 'user_t...         True   \n",
       "29  {'reputation': 644, 'user_id': 2035207, 'user_...         True   \n",
       "\n",
       "    view_count  answer_count  score  last_activity_date  creation_date  \\\n",
       "0           29             1     -1          1656044866     1656020158   \n",
       "4           33             1      0          1655997846     1655995734   \n",
       "5           42             1      0          1655973512     1655958468   \n",
       "12       10186             1      1          1655838340     1383155733   \n",
       "16          45             1      1          1655821384     1655604461   \n",
       "18          64             1      1          1655772804     1655503268   \n",
       "23          49             1      2          1655711698     1655007107   \n",
       "25          54             1      2          1655661476     1655636799   \n",
       "27          60             1      0          1655571739     1655497868   \n",
       "28          42             1      1          1655561348     1655392977   \n",
       "29          51             1      1          1655514446     1655483368   \n",
       "\n",
       "    last_edit_date  question_id content_license  \\\n",
       "0     1.656020e+09     72736841    CC BY-SA 4.0   \n",
       "4     1.655998e+09     72732214    CC BY-SA 4.0   \n",
       "5     1.655974e+09     72724534    CC BY-SA 4.0   \n",
       "12    1.383161e+09     19690370    CC BY-SA 3.0   \n",
       "16             NaN     72673848    CC BY-SA 4.0   \n",
       "18             NaN     72665191    CC BY-SA 4.0   \n",
       "23    1.655712e+09     72589437    CC BY-SA 4.0   \n",
       "25    1.655650e+09     72676329    CC BY-SA 4.0   \n",
       "27    1.655498e+09     72664514    CC BY-SA 4.0   \n",
       "28    1.655483e+09     72648233    CC BY-SA 4.0   \n",
       "29             NaN     72662310    CC BY-SA 4.0   \n",
       "\n",
       "                                                 link  \\\n",
       "0   https://stackoverflow.com/questions/72736841/h...   \n",
       "4   https://stackoverflow.com/questions/72732214/h...   \n",
       "5   https://stackoverflow.com/questions/72724534/u...   \n",
       "12  https://stackoverflow.com/questions/19690370/h...   \n",
       "16  https://stackoverflow.com/questions/72673848/c...   \n",
       "18  https://stackoverflow.com/questions/72665191/m...   \n",
       "23  https://stackoverflow.com/questions/72589437/d...   \n",
       "25  https://stackoverflow.com/questions/72676329/w...   \n",
       "27  https://stackoverflow.com/questions/72664514/p...   \n",
       "28  https://stackoverflow.com/questions/72648233/c...   \n",
       "29  https://stackoverflow.com/questions/72662310/p...   \n",
       "\n",
       "                                                title  accepted_answer_id  \\\n",
       "0          How to Call Custom Perl Module in a Script                 NaN   \n",
       "4   How to fill HTML table cell colour in Perl bas...                 NaN   \n",
       "5   Using perl to delete differente file that name...                 NaN   \n",
       "12              How to redirect a page in perl script                 NaN   \n",
       "16      Can Perl POD represent quoting from an email?          72702495.0   \n",
       "18       More perl style Function Templates in python                 NaN   \n",
       "23  Does Perl PDL have an equivalent of Math::Roun...                 NaN   \n",
       "25  What is corect way to configure path to packag...          72679094.0   \n",
       "27          perl for loop issue with understanding it          72671119.0   \n",
       "28  compile perl script using par::packer and run ...                 NaN   \n",
       "29              Perl: iterate through multiline match          72666003.0   \n",
       "\n",
       "    closed_date closed_reason  protected_date  \n",
       "0           NaN           NaN             NaN  \n",
       "4           NaN           NaN             NaN  \n",
       "5           NaN           NaN             NaN  \n",
       "12          NaN           NaN             NaN  \n",
       "16          NaN           NaN             NaN  \n",
       "18          NaN           NaN             NaN  \n",
       "23          NaN           NaN             NaN  \n",
       "25          NaN           NaN             NaN  \n",
       "27          NaN           NaN             NaN  \n",
       "28          NaN           NaN             NaN  \n",
       "29          NaN           NaN             NaN  "
      ]
     },
     "execution_count": 12,
     "metadata": {},
     "output_type": "execute_result"
    }
   ],
   "source": [
    "dposts[dposts['answer_count']==min_answers]"
   ]
  },
  {
   "cell_type": "markdown",
   "metadata": {},
   "source": [
    "# Actividad 4: Obtener la respuesta más vieja y más actual"
   ]
  },
  {
   "cell_type": "markdown",
   "metadata": {},
   "source": [
    "Transformamos la columna 'creation_date' que está en formato timestamp a un formato más amigable: \"AAAA-MM-DD HH:MM:SS\""
   ]
  },
  {
   "cell_type": "code",
   "execution_count": 13,
   "metadata": {},
   "outputs": [],
   "source": [
    "dposts['creation_date_fix'] = dposts['creation_date'].map(dt.fromtimestamp)"
   ]
  },
  {
   "cell_type": "markdown",
   "metadata": {},
   "source": [
    "Obtenemos el post más antiguo:"
   ]
  },
  {
   "cell_type": "code",
   "execution_count": 14,
   "metadata": {},
   "outputs": [
    {
     "data": {
      "text/html": [
       "<div>\n",
       "<style scoped>\n",
       "    .dataframe tbody tr th:only-of-type {\n",
       "        vertical-align: middle;\n",
       "    }\n",
       "\n",
       "    .dataframe tbody tr th {\n",
       "        vertical-align: top;\n",
       "    }\n",
       "\n",
       "    .dataframe thead th {\n",
       "        text-align: right;\n",
       "    }\n",
       "</style>\n",
       "<table border=\"1\" class=\"dataframe\">\n",
       "  <thead>\n",
       "    <tr style=\"text-align: right;\">\n",
       "      <th></th>\n",
       "      <th>tags</th>\n",
       "      <th>owner</th>\n",
       "      <th>is_answered</th>\n",
       "      <th>view_count</th>\n",
       "      <th>answer_count</th>\n",
       "      <th>score</th>\n",
       "      <th>last_activity_date</th>\n",
       "      <th>creation_date</th>\n",
       "      <th>last_edit_date</th>\n",
       "      <th>question_id</th>\n",
       "      <th>content_license</th>\n",
       "      <th>link</th>\n",
       "      <th>title</th>\n",
       "      <th>accepted_answer_id</th>\n",
       "      <th>closed_date</th>\n",
       "      <th>closed_reason</th>\n",
       "      <th>protected_date</th>\n",
       "      <th>creation_date_fix</th>\n",
       "    </tr>\n",
       "  </thead>\n",
       "  <tbody>\n",
       "    <tr>\n",
       "      <th>21</th>\n",
       "      <td>[perl, unicode, string]</td>\n",
       "      <td>{'reputation': 1851, 'user_id': 98778, 'user_t...</td>\n",
       "      <td>True</td>\n",
       "      <td>26585</td>\n",
       "      <td>4</td>\n",
       "      <td>29</td>\n",
       "      <td>1655731309</td>\n",
       "      <td>1262022733</td>\n",
       "      <td>1.535483e+09</td>\n",
       "      <td>1970660</td>\n",
       "      <td>CC BY-SA 4.0</td>\n",
       "      <td>https://stackoverflow.com/questions/1970660/ho...</td>\n",
       "      <td>How can I guess the encoding of a string in Perl?</td>\n",
       "      <td>1974459.0</td>\n",
       "      <td>NaN</td>\n",
       "      <td>NaN</td>\n",
       "      <td>NaN</td>\n",
       "      <td>2009-12-28 11:52:13</td>\n",
       "    </tr>\n",
       "  </tbody>\n",
       "</table>\n",
       "</div>"
      ],
      "text/plain": [
       "                       tags  \\\n",
       "21  [perl, unicode, string]   \n",
       "\n",
       "                                                owner  is_answered  \\\n",
       "21  {'reputation': 1851, 'user_id': 98778, 'user_t...         True   \n",
       "\n",
       "    view_count  answer_count  score  last_activity_date  creation_date  \\\n",
       "21       26585             4     29          1655731309     1262022733   \n",
       "\n",
       "    last_edit_date  question_id content_license  \\\n",
       "21    1.535483e+09      1970660    CC BY-SA 4.0   \n",
       "\n",
       "                                                 link  \\\n",
       "21  https://stackoverflow.com/questions/1970660/ho...   \n",
       "\n",
       "                                                title  accepted_answer_id  \\\n",
       "21  How can I guess the encoding of a string in Perl?           1974459.0   \n",
       "\n",
       "    closed_date closed_reason  protected_date   creation_date_fix  \n",
       "21          NaN           NaN             NaN 2009-12-28 11:52:13  "
      ]
     },
     "execution_count": 14,
     "metadata": {},
     "output_type": "execute_result"
    }
   ],
   "source": [
    "oldest_date = dposts['creation_date_fix'].min()\n",
    "\n",
    "dposts[dposts['creation_date_fix'] == oldest_date]"
   ]
  },
  {
   "cell_type": "markdown",
   "metadata": {},
   "source": [
    "Y el más reciente:"
   ]
  },
  {
   "cell_type": "code",
   "execution_count": 15,
   "metadata": {},
   "outputs": [
    {
     "data": {
      "text/html": [
       "<div>\n",
       "<style scoped>\n",
       "    .dataframe tbody tr th:only-of-type {\n",
       "        vertical-align: middle;\n",
       "    }\n",
       "\n",
       "    .dataframe tbody tr th {\n",
       "        vertical-align: top;\n",
       "    }\n",
       "\n",
       "    .dataframe thead th {\n",
       "        text-align: right;\n",
       "    }\n",
       "</style>\n",
       "<table border=\"1\" class=\"dataframe\">\n",
       "  <thead>\n",
       "    <tr style=\"text-align: right;\">\n",
       "      <th></th>\n",
       "      <th>tags</th>\n",
       "      <th>owner</th>\n",
       "      <th>is_answered</th>\n",
       "      <th>view_count</th>\n",
       "      <th>answer_count</th>\n",
       "      <th>score</th>\n",
       "      <th>last_activity_date</th>\n",
       "      <th>creation_date</th>\n",
       "      <th>last_edit_date</th>\n",
       "      <th>question_id</th>\n",
       "      <th>content_license</th>\n",
       "      <th>link</th>\n",
       "      <th>title</th>\n",
       "      <th>accepted_answer_id</th>\n",
       "      <th>closed_date</th>\n",
       "      <th>closed_reason</th>\n",
       "      <th>protected_date</th>\n",
       "      <th>creation_date_fix</th>\n",
       "    </tr>\n",
       "  </thead>\n",
       "  <tbody>\n",
       "    <tr>\n",
       "      <th>0</th>\n",
       "      <td>[linux, perl, ubuntu]</td>\n",
       "      <td>{'reputation': 1, 'user_id': 12918263, 'user_t...</td>\n",
       "      <td>False</td>\n",
       "      <td>29</td>\n",
       "      <td>1</td>\n",
       "      <td>-1</td>\n",
       "      <td>1656044866</td>\n",
       "      <td>1656020158</td>\n",
       "      <td>1.656020e+09</td>\n",
       "      <td>72736841</td>\n",
       "      <td>CC BY-SA 4.0</td>\n",
       "      <td>https://stackoverflow.com/questions/72736841/h...</td>\n",
       "      <td>How to Call Custom Perl Module in a Script</td>\n",
       "      <td>NaN</td>\n",
       "      <td>NaN</td>\n",
       "      <td>NaN</td>\n",
       "      <td>NaN</td>\n",
       "      <td>2022-06-23 16:35:58</td>\n",
       "    </tr>\n",
       "  </tbody>\n",
       "</table>\n",
       "</div>"
      ],
      "text/plain": [
       "                    tags                                              owner  \\\n",
       "0  [linux, perl, ubuntu]  {'reputation': 1, 'user_id': 12918263, 'user_t...   \n",
       "\n",
       "   is_answered  view_count  answer_count  score  last_activity_date  \\\n",
       "0        False          29             1     -1          1656044866   \n",
       "\n",
       "   creation_date  last_edit_date  question_id content_license  \\\n",
       "0     1656020158    1.656020e+09     72736841    CC BY-SA 4.0   \n",
       "\n",
       "                                                link  \\\n",
       "0  https://stackoverflow.com/questions/72736841/h...   \n",
       "\n",
       "                                        title  accepted_answer_id  \\\n",
       "0  How to Call Custom Perl Module in a Script                 NaN   \n",
       "\n",
       "   closed_date closed_reason  protected_date   creation_date_fix  \n",
       "0          NaN           NaN             NaN 2022-06-23 16:35:58  "
      ]
     },
     "execution_count": 15,
     "metadata": {},
     "output_type": "execute_result"
    }
   ],
   "source": [
    "most_recent_date = dposts['creation_date_fix'].max()\n",
    "dposts[dposts['creation_date_fix'] == most_recent_date]"
   ]
  },
  {
   "cell_type": "markdown",
   "metadata": {},
   "source": [
    "# Actividad 5: Obtener la respuesta del owner que tenga una mayor reputación"
   ]
  },
  {
   "cell_type": "markdown",
   "metadata": {},
   "source": [
    "**NOTA**: Esta actividad no le entendí del todo, porque me pide la respuesta del owner con mayor reputación pero entiendo que solo viene el post del owner."
   ]
  },
  {
   "cell_type": "markdown",
   "metadata": {},
   "source": [
    "Para tomar la información del owner, crearé un dataframe nuevo:"
   ]
  },
  {
   "cell_type": "code",
   "execution_count": 16,
   "metadata": {},
   "outputs": [],
   "source": [
    "downer = pd.DataFrame(dposts['owner'].tolist())"
   ]
  },
  {
   "cell_type": "markdown",
   "metadata": {},
   "source": [
    "**NOTA:** Le agrego una \"d\" al inicio de la variable *owner* porque así sé que es un dataframe."
   ]
  },
  {
   "cell_type": "markdown",
   "metadata": {},
   "source": [
    "Y este es el owner con mejor reputación:"
   ]
  },
  {
   "cell_type": "code",
   "execution_count": 17,
   "metadata": {},
   "outputs": [
    {
     "data": {
      "text/html": [
       "<div>\n",
       "<style scoped>\n",
       "    .dataframe tbody tr th:only-of-type {\n",
       "        vertical-align: middle;\n",
       "    }\n",
       "\n",
       "    .dataframe tbody tr th {\n",
       "        vertical-align: top;\n",
       "    }\n",
       "\n",
       "    .dataframe thead th {\n",
       "        text-align: right;\n",
       "    }\n",
       "</style>\n",
       "<table border=\"1\" class=\"dataframe\">\n",
       "  <thead>\n",
       "    <tr style=\"text-align: right;\">\n",
       "      <th></th>\n",
       "      <th>reputation</th>\n",
       "      <th>user_id</th>\n",
       "      <th>user_type</th>\n",
       "      <th>profile_image</th>\n",
       "      <th>display_name</th>\n",
       "      <th>link</th>\n",
       "      <th>accept_rate</th>\n",
       "    </tr>\n",
       "  </thead>\n",
       "  <tbody>\n",
       "    <tr>\n",
       "      <th>8</th>\n",
       "      <td>28046</td>\n",
       "      <td>377031</td>\n",
       "      <td>registered</td>\n",
       "      <td>https://www.gravatar.com/avatar/a9b4665d4dbfd7...</td>\n",
       "      <td>David B</td>\n",
       "      <td>https://stackoverflow.com/users/377031/david-b</td>\n",
       "      <td>92.0</td>\n",
       "    </tr>\n",
       "  </tbody>\n",
       "</table>\n",
       "</div>"
      ],
      "text/plain": [
       "   reputation  user_id   user_type  \\\n",
       "8       28046   377031  registered   \n",
       "\n",
       "                                       profile_image display_name  \\\n",
       "8  https://www.gravatar.com/avatar/a9b4665d4dbfd7...      David B   \n",
       "\n",
       "                                             link  accept_rate  \n",
       "8  https://stackoverflow.com/users/377031/david-b         92.0  "
      ]
     },
     "execution_count": 17,
     "metadata": {},
     "output_type": "execute_result"
    }
   ],
   "source": [
    "max_reputation = downer['reputation'].max()\n",
    "downer[downer['reputation'] == max_reputation]"
   ]
  },
  {
   "cell_type": "markdown",
   "metadata": {},
   "source": [
    "De acá tomaré su nombre para obtener los posts relacionados con el owner:"
   ]
  },
  {
   "cell_type": "code",
   "execution_count": 18,
   "metadata": {},
   "outputs": [],
   "source": [
    "owner_max_reputation = downer['display_name'][downer['reputation'] == max_reputation].squeeze()"
   ]
  },
  {
   "cell_type": "code",
   "execution_count": 19,
   "metadata": {},
   "outputs": [
    {
     "data": {
      "text/html": [
       "<div>\n",
       "<style scoped>\n",
       "    .dataframe tbody tr th:only-of-type {\n",
       "        vertical-align: middle;\n",
       "    }\n",
       "\n",
       "    .dataframe tbody tr th {\n",
       "        vertical-align: top;\n",
       "    }\n",
       "\n",
       "    .dataframe thead th {\n",
       "        text-align: right;\n",
       "    }\n",
       "</style>\n",
       "<table border=\"1\" class=\"dataframe\">\n",
       "  <thead>\n",
       "    <tr style=\"text-align: right;\">\n",
       "      <th></th>\n",
       "      <th>tags</th>\n",
       "      <th>owner</th>\n",
       "      <th>is_answered</th>\n",
       "      <th>view_count</th>\n",
       "      <th>answer_count</th>\n",
       "      <th>score</th>\n",
       "      <th>last_activity_date</th>\n",
       "      <th>creation_date</th>\n",
       "      <th>last_edit_date</th>\n",
       "      <th>question_id</th>\n",
       "      <th>content_license</th>\n",
       "      <th>link</th>\n",
       "      <th>title</th>\n",
       "      <th>accepted_answer_id</th>\n",
       "      <th>closed_date</th>\n",
       "      <th>closed_reason</th>\n",
       "      <th>protected_date</th>\n",
       "      <th>creation_date_fix</th>\n",
       "    </tr>\n",
       "  </thead>\n",
       "  <tbody>\n",
       "    <tr>\n",
       "      <th>8</th>\n",
       "      <td>[regex, perl]</td>\n",
       "      <td>{'reputation': 28046, 'user_id': 377031, 'user...</td>\n",
       "      <td>True</td>\n",
       "      <td>27427</td>\n",
       "      <td>7</td>\n",
       "      <td>21</td>\n",
       "      <td>1655895047</td>\n",
       "      <td>1281349700</td>\n",
       "      <td>1.493563e+09</td>\n",
       "      <td>3439123</td>\n",
       "      <td>CC BY-SA 3.0</td>\n",
       "      <td>https://stackoverflow.com/questions/3439123/ho...</td>\n",
       "      <td>How can I match everything that is after the l...</td>\n",
       "      <td>3439134.0</td>\n",
       "      <td>NaN</td>\n",
       "      <td>NaN</td>\n",
       "      <td>NaN</td>\n",
       "      <td>2010-08-09 05:28:20</td>\n",
       "    </tr>\n",
       "  </tbody>\n",
       "</table>\n",
       "</div>"
      ],
      "text/plain": [
       "            tags                                              owner  \\\n",
       "8  [regex, perl]  {'reputation': 28046, 'user_id': 377031, 'user...   \n",
       "\n",
       "   is_answered  view_count  answer_count  score  last_activity_date  \\\n",
       "8         True       27427             7     21          1655895047   \n",
       "\n",
       "   creation_date  last_edit_date  question_id content_license  \\\n",
       "8     1281349700    1.493563e+09      3439123    CC BY-SA 3.0   \n",
       "\n",
       "                                                link  \\\n",
       "8  https://stackoverflow.com/questions/3439123/ho...   \n",
       "\n",
       "                                               title  accepted_answer_id  \\\n",
       "8  How can I match everything that is after the l...           3439134.0   \n",
       "\n",
       "   closed_date closed_reason  protected_date   creation_date_fix  \n",
       "8          NaN           NaN             NaN 2010-08-09 05:28:20  "
      ]
     },
     "execution_count": 19,
     "metadata": {},
     "output_type": "execute_result"
    }
   ],
   "source": [
    "dposts[dposts['owner'].apply(lambda x: x['display_name']==owner_max_reputation)]"
   ]
  },
  {
   "cell_type": "markdown",
   "metadata": {},
   "source": [
    "# Actividad 6: Imprimir en consola del punto 2 al 5"
   ]
  },
  {
   "cell_type": "code",
   "execution_count": 20,
   "metadata": {},
   "outputs": [
    {
     "name": "stdout",
     "output_type": "stream",
     "text": [
      "2. Obtener el número de respuestas contestadas y no contestadas.\n",
      "\n",
      "\t- Número de posts que recibieron respuesta: 23 \n",
      "\t- Número de posts que no recibieron respuesta 7\n",
      "\n",
      " ****************************************************************** \n",
      "\n",
      "3. Obtener la respuesta con menor número de vistas.\n",
      "\n",
      "\t El menor número de respuestas obtenidas (omitiendo el cero) es: 1\n",
      "\n",
      "\t Provenientes de los siguientes posts:\n",
      "\t\t- How to Call Custom Perl Module in a Script\n",
      "\t\t- How to fill HTML table cell colour in Perl based on variable&#39;s output?\n",
      "\t\t- Using perl to delete differente file that name end by diefferent name extension Like dynamic date and hour\n",
      "\t\t- How to redirect a page in perl script\n",
      "\t\t- Can Perl POD represent quoting from an email?\n",
      "\t\t- More perl style Function Templates in python\n",
      "\t\t- Does Perl PDL have an equivalent of Math::Round::nearest()?\n",
      "\t\t- What is corect way to configure path to packages for perl?\n",
      "\t\t- perl for loop issue with understanding it\n",
      "\t\t- compile perl script using par::packer and run it on different linux versions\n",
      "\t\t- Perl: iterate through multiline match\n",
      "\n",
      " ****************************************************************** \n",
      "\n",
      "4. Obtener la respuesta más vieja y más actual.\n",
      "\n",
      "\t- 28/12/2009-11:52 - How can I guess the encoding of a string in Perl?\n",
      "\t- 23/06/2022-16:35 - How to Call Custom Perl Module in a Script\n",
      "\n",
      " ****************************************************************** \n",
      "\n",
      "5. Obtener la respuesta del owner que tenga una mayor reputación.\n",
      "\n",
      "\t- David B: How can I match everything that is after the last occurrence of some char in a perl regular expression?\n"
     ]
    }
   ],
   "source": [
    "print('2. Obtener el número de respuestas contestadas y no contestadas.')\n",
    "print('\\n\\t- Número de posts que recibieron respuesta:', answered, '\\n\\t- Número de posts que no recibieron respuesta', not_answered)\n",
    "print('\\n','*'*66, '\\n')\n",
    "\n",
    "print('3. Obtener la respuesta con menor número de vistas.')\n",
    "print('\\n\\t El menor número de respuestas obtenidas (omitiendo el cero) es:', min_answers)\n",
    "print('\\n\\t Provenientes de los siguientes posts:')\n",
    "[print('\\t\\t- ' + t) for t in dposts['title'][dposts['answer_count']==min_answers].values]\n",
    "print('\\n','*'*66, '\\n')\n",
    "\n",
    "print('4. Obtener la respuesta más vieja y más actual.\\n')\n",
    "[print('\\t- ' + dt.strftime(r[1], '%d/%m/%Y-%H:%M') + ' - ' + r[2]) for r in dposts[['creation_date_fix', 'title']][dposts['creation_date_fix'] == oldest_date].itertuples()]\n",
    "[print('\\t- ' + dt.strftime(r[1], '%d/%m/%Y-%H:%M') + ' - ' + r[2]) for r in dposts[['creation_date_fix', 'title']][dposts['creation_date_fix'] == most_recent_date].itertuples()]\n",
    "print('\\n','*'*66, '\\n')\n",
    "\n",
    "print('5. Obtener la respuesta del owner que tenga una mayor reputación.\\n')\n",
    "print('\\t- ' + owner_max_reputation + ': ' + dposts['title'][dposts['owner'].apply(lambda x: x['display_name']==owner_max_reputation)].squeeze())"
   ]
  },
  {
   "cell_type": "code",
   "execution_count": null,
   "metadata": {},
   "outputs": [],
   "source": []
  }
 ],
 "metadata": {
  "kernelspec": {
   "display_name": "Python 3 (ipykernel)",
   "language": "python",
   "name": "python3"
  },
  "language_info": {
   "codemirror_mode": {
    "name": "ipython",
    "version": 3
   },
   "file_extension": ".py",
   "mimetype": "text/x-python",
   "name": "python",
   "nbconvert_exporter": "python",
   "pygments_lexer": "ipython3",
   "version": "3.8.10"
  },
  "vscode": {
   "interpreter": {
    "hash": "916dbcbb3f70747c44a77c7bcd40155683ae19c65e1c03b4aa3499c5328201f1"
   }
  }
 },
 "nbformat": 4,
 "nbformat_minor": 2
}
